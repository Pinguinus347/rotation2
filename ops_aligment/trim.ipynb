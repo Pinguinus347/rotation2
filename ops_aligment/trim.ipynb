{
 "cells": [
  {
   "cell_type": "code",
   "execution_count": 1,
   "id": "1f0ce40c",
   "metadata": {},
   "outputs": [],
   "source": [
    "from Bio import SeqIO\n",
    "\n",
    "# Global variables for accessing datasets\n",
    "directory = \"/home/callum/rotation2/ops_aligment/ncbi_dataset/data\"\n",
    "\n",
    "# Note GCF is the refseq data, GCA in the genbank data\n",
    "pst_directory = directory + \"/GCF_000007805.1/\"\n",
    "psp_directory = directory + \"/GCF_000012205.1/\"\n",
    "pss_directory = directory + \"/GCF_000012245.1/\"\n",
    "pao1_directory = directory + \"/GCF_000006765.1/\"\n",
    "pa14_directory = directory + \"/GCF_000014625.1/\"\n",
    "\n",
    "def region_extract(organism, region_start, region_end, output_suffix):\n",
    "    if organism == \"pst\":\n",
    "        global pst_directory\n",
    "        input_file = pst_directory\n",
    "        # Target record_id for chromosome\n",
    "        target_record_id = \"NC_004578.1\"\n",
    "        plasmids = True\n",
    "    elif organism == \"pss\":\n",
    "        global pss_directory\n",
    "        input_file = pss_directory\n",
    "        # Target record_id for chromosome\n",
    "        target_record_id = \"NC_007005\"\n",
    "        plasmids = False\n",
    "    elif organism == \"psp\":\n",
    "        global psp_directory\n",
    "        input_file = psp_directory\n",
    "        # Target record_id for chromosome\n",
    "        target_record_id = \"NC_005773.3\"\n",
    "        plasmids = True\n",
    "    elif organism == \"pao1\":\n",
    "        global pao1_directory\n",
    "        input_file = pao1_directory\n",
    "        # Target record_id for chromosome\n",
    "        target_record_id = \"NC_002516\"\n",
    "        plasmids = False\n",
    "    elif organism == \"pa14\":\n",
    "        global pa14_directory\n",
    "        input_file = pa14_directory\n",
    "        # Target record_id for chromosome\n",
    "        target_record_id = \"CP000438\"\n",
    "        plasmids = False\n",
    "    else:\n",
    "        UserWarning(\"Organism is not supported\")\n",
    "    # Defining filepaths\n",
    "    input_file = input_file + \"genomic.gbff\"\n",
    "    output_file = organism + \"_\" + output_suffix\n",
    "    if not plasmids:\n",
    "        # Using SeqIO.read as only one locus in the sequence (no plasmids)\n",
    "        record = SeqIO.read(input_file, \"genbank\")\n",
    "        sub_record = record[region_start:region_end]\n",
    "        SeqIO.write(sub_record, output_file, \"genbank\")\n",
    "    else:\n",
    "        with open(input_file) as handle:\n",
    "            for record in SeqIO.parse(handle, \"genbank\"):\n",
    "                #print(record.id)\n",
    "                if record.id == target_record_id:\n",
    "                    sub_record = record[region_start:region_end]\n",
    "                    sub_record.id = f\"{record.id}_{region_start}_{region_end}\"\n",
    "                    sub_record.description = f\"{record.description} (region {region_start}-{region_end})\"\n",
    "                    sub_record.annotations = record.annotations\n",
    "                    sub_record.features = [\n",
    "                        f for f in record.features\n",
    "                        if f.location.start < region_end and f.location.end > region_start\n",
    "                    ]\n",
    "                    SeqIO.write(sub_record, output_file, \"genbank\")\n",
    "                    break"
   ]
  },
  {
   "cell_type": "code",
   "execution_count": null,
   "id": "3324bc2f",
   "metadata": {},
   "outputs": [],
   "source": [
    "# Extracting genes of interest for systematic proteome searches\n",
    "from Bio import SeqIO\n",
    "from Bio.SeqRecord import SeqRecord\n",
    "\n",
    "# --- Settings ---\n",
    "input_gbff = \"your_input_file.gbff\"   # replace with your actual .gbff file\n",
    "output_fasta = \"genes_by_locus_tag.fasta\"\n",
    "locus_tags_to_extract = {\"PSPTO_0182\", \"LpxA\", \"LpxC\"}  # <-- Set of locus tags you want\n",
    "\n",
    "# --- Extraction ---\n",
    "records_to_write = []\n",
    "\n",
    "for record in SeqIO.parse(input_gbff, \"genbank\"):\n",
    "    for feature in record.features:\n",
    "        if feature.type == \"CDS\":\n",
    "            locus_tag = feature.qualifiers.get(\"locus_tag\", [None])[0]\n",
    "            if locus_tag in locus_tags_to_extract:\n",
    "                seq = feature.extract(record.seq)\n",
    "                rec = SeqRecord(seq, id=locus_tag, description=\"\")\n",
    "                records_to_write.append(rec)\n",
    "\n",
    "# --- Write to FASTA ---\n",
    "SeqIO.write(records_to_write, output_fasta, \"fasta\")\n",
    "\n",
    "print(f\"Extracted {len(records_to_write)} gene(s) to {output_fasta}\")\n",
    "\n"
   ]
  },
  {
   "cell_type": "code",
   "execution_count": null,
   "id": "66569188",
   "metadata": {},
   "outputs": [],
   "source": [
    "# Extracting putative CPA cluster genes\n",
    "\n",
    "# Region around main CPA locus (ABC transporters)\n",
    "region_extract(\"psp\",1110824, 1186815,\"CPA01.gbk\")\n",
    "\n",
    "region_extract(\"pst\",1145640,1226640,\"CPA01.gbk\")\n",
    "\n",
    "\n",
    "region_extract(\"pss\",1010000, 1080555,\"CPA01.gbk\")\n",
    "\n",
    "region_extract(\"pao1\",6141666-35000, 6141666+35000,\"CPA01.gbk\")\n",
    "region_extract(\"pa14\",6414586-35000, 6414586+35000,\"CPA01.gbk\")\n",
    "# Region around gmd in DC3000\n",
    "\n",
    "region_extract(\"pst\",1098690-35000,1098690+35000,\"CPA02.gbk\")\n",
    "\n"
   ]
  },
  {
   "cell_type": "code",
   "execution_count": 3,
   "id": "1cbfd391",
   "metadata": {},
   "outputs": [],
   "source": [
    "# Extracting putative OSA cluster genes\n",
    "# Using buffer region of 35000 bp from start of WbpL\n",
    "buffer = 35000\n",
    "# Region around main CPA locus (ABC transporters)\n",
    "start_coord = 1926688\n",
    "region_extract(\"pst\",start_coord - buffer,start_coord + buffer,\"OSA01.gbk\")\n",
    "\n",
    "start_coord = 4200515\n",
    "region_extract(\"psp\",start_coord - buffer,start_coord + buffer,\"OSA01.gbk\")\n",
    "\n",
    "start_coord = 4319067 \n",
    "region_extract(\"pss\",start_coord - buffer,start_coord + buffer,\"OSA01.gbk\")\n",
    "\n",
    "start_coord = 3530467 \n",
    "region_extract(\"pao1\",start_coord - buffer,start_coord + buffer,\"OSA01.gbk\")\n",
    "start_coord = 2038087 \n",
    "region_extract(\"pa14\",start_coord - buffer,start_coord + buffer,\"OSA01.gbk\")\n"
   ]
  },
  {
   "cell_type": "code",
   "execution_count": 14,
   "id": "bc17b874",
   "metadata": {},
   "outputs": [],
   "source": [
    "# Extracting putative Alginate cluster genes\n",
    "# Using buffer region of 20000 bp from start of AlgA\n",
    "buffer = 20000\n",
    "# Region around main CPA locus (ABC transporters)\n",
    "start_coord = 1351082\n",
    "region_extract(\"pst\",start_coord - buffer,start_coord + buffer,\"Alg01.gbk\")\n",
    "\n",
    "start_coord = 1302146\n",
    "region_extract(\"psp\",start_coord - buffer,start_coord + buffer,\"Alg01.gbk\")\n",
    "\n",
    "start_coord = 1189612 \n",
    "region_extract(\"pss\",start_coord - buffer,start_coord + buffer,\"Alg01.gbk\")"
   ]
  },
  {
   "cell_type": "code",
   "execution_count": null,
   "id": "79c9f557",
   "metadata": {},
   "outputs": [],
   "source": [
    "# Extracting putative Psl cluster genes\n",
    "# Using buffer region of 20000 bp from start of PslB\n",
    "buffer = 20000\n",
    "# Region around main CPA locus (ABC transporters)\n",
    "start_coord = 3983868\n",
    "region_extract(\"pst\",start_coord - buffer,start_coord + buffer,\"Psl01.gbk\")\n",
    "\n",
    "start_coord = 3734971\n",
    "region_extract(\"psp\",start_coord - buffer,start_coord + buffer,\"Psl01.gbk\")\n",
    "\n",
    "start_coord = 3951223 \n",
    "region_extract(\"pss\",start_coord - buffer,start_coord + buffer,\"Psl01.gbk\")\n",
    "\n",
    "# pst bit around 3447\n",
    "3889623 "
   ]
  },
  {
   "cell_type": "code",
   "execution_count": 8,
   "id": "7395aba3",
   "metadata": {
    "vscode": {
     "languageId": "shellscript"
    }
   },
   "outputs": [
    {
     "ename": "SyntaxError",
     "evalue": "invalid syntax (2668342951.py, line 2)",
     "output_type": "error",
     "traceback": [
      "  \u001b[36mCell\u001b[39m\u001b[36m \u001b[39m\u001b[32mIn[8]\u001b[39m\u001b[32m, line 2\u001b[39m\n\u001b[31m    \u001b[39m\u001b[31mconda activate clinker\u001b[39m\n          ^\n\u001b[31mSyntaxError\u001b[39m\u001b[31m:\u001b[39m invalid syntax\n"
     ]
    }
   ],
   "source": [
    "# Bash commands to run to generate the html\n",
    "conda activate clinker\n",
    "clinker *CPA*gbk -p CPA.html\n",
    "explorer.exe CPA.html\n"
   ]
  },
  {
   "cell_type": "code",
   "execution_count": null,
   "id": "36b78f5b",
   "metadata": {},
   "outputs": [],
   "source": [
    "input_file = pst_directory+\"genomic.gbff\"\n",
    "output_file = \"pst_region2.gbk\"\n",
    "\n",
    "# Replace with your target contig ID (e.g., 'NC_002516.2' for P. aeruginosa chromosome)\n",
    "\n",
    "#region_start, region_end = 1145640, 1186640\n",
    "region_start, region_end = 1145640, 1226640\n",
    "\n",
    "\n",
    "\n",
    "with open(input_file) as handle:\n",
    "    for record in SeqIO.parse(handle, \"genbank\"):\n",
    "        if record.id == target_record_id:\n",
    "            sub_record = record[region_start:region_end]\n",
    "            sub_record.id = f\"{record.id}_{region_start}_{region_end}\"\n",
    "            sub_record.description = f\"{record.description} (region {region_start}-{region_end})\"\n",
    "            sub_record.annotations = record.annotations\n",
    "            sub_record.features = [\n",
    "                f for f in record.features\n",
    "                if f.location.start < region_end and f.location.end > region_start\n",
    "            ]\n",
    "            SeqIO.write(sub_record, output_file, \"genbank\")\n",
    "            break"
   ]
  },
  {
   "cell_type": "code",
   "execution_count": null,
   "id": "0129ea1b",
   "metadata": {},
   "outputs": [],
   "source": [
    "directory = \"/home/callum/rotation2/ops_aligment/ncbi_dataset/data\"\n",
    "\n",
    "input_file = psp_directory+\"genomic.gbff\"\n",
    "output_file = \"psp_region2.gbk\"\n",
    "\n",
    "# Replace with your target contig ID (e.g., 'NC_002516.2' for P. aeruginosa chromosome)\n",
    "\n",
    "#region_start, region_end = 1120824, 1156815\n",
    "region_start, region_end = 1110824, 1186815\n",
    "\n",
    "with open(input_file) as handle:\n",
    "    for record in SeqIO.parse(handle, \"genbank\"):\n",
    "        if record.id == target_record_id:\n",
    "            sub_record = record[region_start:region_end]\n",
    "            sub_record.id = f\"{record.id}_{region_start}_{region_end}\"\n",
    "            sub_record.description = f\"{record.description} (region {region_start}-{region_end})\"\n",
    "            sub_record.annotations = record.annotations\n",
    "            sub_record.features = [\n",
    "                f for f in record.features\n",
    "                if f.location.start < region_end and f.location.end > region_start\n",
    "            ]\n",
    "            SeqIO.write(sub_record, output_file, \"genbank\")\n",
    "            break"
   ]
  },
  {
   "cell_type": "code",
   "execution_count": null,
   "id": "da021ade",
   "metadata": {},
   "outputs": [
    {
     "data": {
      "text/plain": [
       "1"
      ]
     },
     "execution_count": 3,
     "metadata": {},
     "output_type": "execute_result"
    }
   ],
   "source": [
    "directory = \"/home/callum/rotation2/ops_aligment/ncbi_dataset/data\"\n",
    "pss_directory = directory + \"/GCA_000012245.1/\"\n",
    "input_file = pss_directory+\"genomic.gbff\"\n",
    "output_file = \"pss_region2.gbk\"\n",
    "\n",
    "# Replace with your target contig ID (e.g., 'NC_002516.2' for P. aeruginosa chromosome)\n",
    "target_record_id = \"NC_007005.1\"\n",
    "#region_start, region_end = 1010000, 1054555\n",
    "region_start, region_end = 1010000, 1080555\n",
    "\n",
    "# Using SeqIO.read as only one locus in the sequence (no plasmids)\n",
    "record = SeqIO.read(input_file, \"genbank\")\n",
    "sub_record = record[region_start:region_end]\n",
    "SeqIO.write(sub_record, output_file, \"genbank\")"
   ]
  }
 ],
 "metadata": {
  "kernelspec": {
   "display_name": ".venv",
   "language": "python",
   "name": "python3"
  },
  "language_info": {
   "codemirror_mode": {
    "name": "ipython",
    "version": 3
   },
   "file_extension": ".py",
   "mimetype": "text/x-python",
   "name": "python",
   "nbconvert_exporter": "python",
   "pygments_lexer": "ipython3",
   "version": "3.12.3"
  }
 },
 "nbformat": 4,
 "nbformat_minor": 5
}
